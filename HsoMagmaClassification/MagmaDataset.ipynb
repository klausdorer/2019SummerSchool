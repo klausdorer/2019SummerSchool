{
 "cells": [
  {
   "cell_type": "markdown",
   "metadata": {},
   "source": [
    "# HSO Magma Dataset"
   ]
  },
  {
   "cell_type": "code",
   "execution_count": null,
   "metadata": {
    "pycharm": {
     "is_executing": false
    }
   },
   "outputs": [],
   "source": [
    "from keras.preprocessing import image as keras_image\n",
    "\n",
    "import os\n",
    "import glob\n",
    "import shutil\n",
    "import matplotlib.pyplot as plt\n",
    "import zipfile\n",
    "import urllib.request"
   ]
  },
  {
   "cell_type": "markdown",
   "metadata": {},
   "source": [
    "## Download & Extract the Dataset"
   ]
  },
  {
   "cell_type": "code",
   "execution_count": null,
   "metadata": {},
   "outputs": [],
   "source": [
    "url = 'https://bwsyncandshare.kit.edu/dl/fiHEyLDSnrVJGFd6j1xDDh3r/MagmaDataset.zip'\n",
    "\n",
    "print('Beginning file download...')\n",
    "urllib.request.urlretrieve(url,'./MagmaDataset.zip',)\n",
    "\n",
    "print('Unzip MagmaDataset.zip to ./data...')\n",
    "with zipfile.ZipFile('./MagmaDataset.zip', 'r') as zip_ref:\n",
    "    zip_ref.extractall('./data')\n",
    "print('Download & Extraction finished')"
   ]
  },
  {
   "cell_type": "markdown",
   "metadata": {},
   "source": [
    "## Constants"
   ]
  },
  {
   "cell_type": "code",
   "execution_count": null,
   "metadata": {},
   "outputs": [],
   "source": [
    "CATEGORIES = ['0','1','2','3','4','5','6','7']\n",
    "dataset_dir = './data/dataset'\n",
    "train_dir = './data/training'\n",
    "val_dir = './data/validation'\n",
    "test_dir = './data/test'\n",
    "\n",
    "os.path.isdir(dataset_dir)"
   ]
  },
  {
   "cell_type": "code",
   "execution_count": null,
   "metadata": {},
   "outputs": [],
   "source": [
    "# clean the data directory\n",
    "shutil.rmtree(train_dir, ignore_errors=True)\n",
    "shutil.rmtree(val_dir, ignore_errors=True)\n",
    "shutil.rmtree(test_dir, ignore_errors=True)"
   ]
  },
  {
   "cell_type": "markdown",
   "metadata": {},
   "source": [
    "## Distribution of Images to Classes"
   ]
  },
  {
   "cell_type": "code",
   "execution_count": null,
   "metadata": {},
   "outputs": [],
   "source": [
    "data=dict()\n",
    "for x in CATEGORIES:\n",
    "    data[x] = len(os.listdir(os.path.join(dataset_dir,x)))\n",
    "print(data)"
   ]
  },
  {
   "cell_type": "code",
   "execution_count": null,
   "metadata": {},
   "outputs": [],
   "source": [
    "plt.bar(x=data.keys(), height=data.values())"
   ]
  },
  {
   "cell_type": "markdown",
   "metadata": {},
   "source": [
    "## Plot Pictures from the Categories"
   ]
  },
  {
   "cell_type": "code",
   "execution_count": null,
   "metadata": {
    "scrolled": false
   },
   "outputs": [],
   "source": [
    "plt.figure(figsize=(15,15))\n",
    "\n",
    "ROWS =  8\n",
    "\n",
    "for x in CATEGORIES:\n",
    "    image_names = glob.glob(dataset_dir+'/'+x +'/*.png')\n",
    "    idx = int(x)+1\n",
    "    for i in range(ROWS):\n",
    "        img = keras_image.load_img(image_names[i],color_mode='rgb',target_size=(100,100),)\n",
    "        ax = plt.subplot(ROWS,len(CATEGORIES),idx)\n",
    "        idx += len(CATEGORIES)\n",
    "        \n",
    "        ax.imshow(img)\n",
    "        ax.set_title('')\n",
    "        ax.tick_params(bottom=False, left=False,  labelleft=False, labelbottom=False)\n",
    "    \n",
    "plt.tight_layout()\n",
    "plt.show()"
   ]
  },
  {
   "cell_type": "markdown",
   "metadata": {},
   "source": [
    "## Split Dataset in Training,Validation and Test  (80/10/10)"
   ]
  },
  {
   "cell_type": "code",
   "execution_count": null,
   "metadata": {},
   "outputs": [],
   "source": [
    "shutil.rmtree(train_dir, ignore_errors=True)\n",
    "shutil.rmtree(val_dir, ignore_errors=True)\n",
    "shutil.rmtree(test_dir, ignore_errors=True)\n",
    "\n",
    "for x in CATEGORIES:\n",
    "    # get an unsorted list of file names of dir\n",
    "    image_names = os.listdir(os.path.join(dataset_dir,x))\n",
    "    image_count = len(image_names)\n",
    "\n",
    "    # use the first 80% from dataset for training\n",
    "    image_name_train = image_names[:int(0.8*image_count)]\n",
    "    # use the next 10% from dataset for validation\n",
    "    image_name_val = image_names[int(0.8*image_count):int(0.9*image_count)]\n",
    "    # use the last 10% from dataset for test\n",
    "    image_name_test = image_names[int(0.9*image_count):]\n",
    "\n",
    "    os.makedirs(os.path.join(train_dir,x))\n",
    "    os.makedirs(os.path.join(val_dir,x))\n",
    "    os.makedirs(os.path.join(test_dir,x))\n",
    "\n",
    "    print('Spilt Class {} WITH {} IMAGES : {} TRAIN IMAGES | {} VAL IMAGES | {} TEST IMAGES'.format(x,\n",
    "                                                                                                    image_count,\n",
    "                                                                                                    len(image_name_train),\n",
    "                                                                                                    len(image_name_val),\n",
    "                                                                                                    len(image_name_test)))\n",
    "\n",
    "    [shutil.copy(os.path.join(dataset_dir,x,file),os.path.join(train_dir,x,file)) for file in image_name_train]\n",
    "    [shutil.copy(os.path.join(dataset_dir,x,file),os.path.join(val_dir,x,file)) for file in image_name_val]\n",
    "    [shutil.copy(os.path.join(dataset_dir,x,file),os.path.join(test_dir,x,file)) for file in image_name_test]\n",
    "    "
   ]
  }
 ],
 "metadata": {
  "kernelspec": {
   "display_name": "Python 3",
   "language": "python",
   "name": "python3"
  },
  "language_info": {
   "codemirror_mode": {
    "name": "ipython",
    "version": 3
   },
   "file_extension": ".py",
   "mimetype": "text/x-python",
   "name": "python",
   "nbconvert_exporter": "python",
   "pygments_lexer": "ipython3",
   "version": "3.5.2"
  },
  "pycharm": {
   "stem_cell": {
    "cell_type": "raw",
    "metadata": {
     "collapsed": false
    },
    "source": []
   }
  }
 },
 "nbformat": 4,
 "nbformat_minor": 2
}
